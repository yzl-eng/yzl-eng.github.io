{
 "cells": [
  {
   "cell_type": "markdown",
   "metadata": {},
   "source": [
    "## 例题：解决“讨厌的青蛙”问题"
   ]
  },
  {
   "cell_type": "code",
   "execution_count": 1,
   "metadata": {},
   "outputs": [
    {
     "name": "stdout",
     "output_type": "stream",
     "text": [
      "1 1 1 1 1 1 1 \n",
      "0 1 0 1 0 0 0 \n",
      "1 1 1 0 1 1 1 \n",
      "1 0 1 1 1 1 1 \n",
      "1 1 1 1 1 1 1 \n",
      "0 0 0 0 0 0 0 \n"
     ]
    }
   ],
   "source": [
    "Range=[6,7]\n",
    "plants=[[2,1],[6,6],[4,2],[2,5],[2,6],[2,7],[3,4],[6,1],[6,2],[2,3],[6,3],[6,4],[6,5],[6,7]]\n",
    "max_steps=2\n",
    "n=14\n",
    "for i in range(Range[0]):\n",
    "    for t in range(Range[1]):\n",
    "        if [i+1,t+1] in plants:\n",
    "            print(\"0\",end=\" \")\n",
    "        else:\n",
    "            print(\"1\",end=\" \")\n",
    "    print()"
   ]
  },
  {
   "cell_type": "code",
   "execution_count": 2,
   "metadata": {},
   "outputs": [],
   "source": [
    "def search_steps(secplant,dx,dy):\n",
    "    plant=[0,0]\n",
    "    steps=0\n",
    "    plant[0]=secplant[0]-dx\n",
    "    plant[1]=secplant[1]-dy\n",
    "    while 1<=plant[0]<=Range[0] and 1<=plant[1]<=Range[1]:\n",
    "        if plant not in plants:\n",
    "            steps=2\n",
    "            break\n",
    "        plant[0]+=dx\n",
    "        plant[1]+=dy\n",
    "        steps+=1\n",
    "    return steps\n",
    "         \n",
    "\n"
   ]
  },
  {
   "cell_type": "code",
   "execution_count": 3,
   "metadata": {},
   "outputs": [
    {
     "name": "stdout",
     "output_type": "stream",
     "text": [
      "7\n"
     ]
    }
   ],
   "source": [
    "\n",
    "plants=sorted(plants,reverse=False)\n",
    "for i in range(n-1):\n",
    "    for j in range(i+1,n):\n",
    "        dx=plants[j][0]-plants[i][0]\n",
    "        dy=plants[j][1]-plants[i][1]\n",
    "        px=plants[i][0]-dx\n",
    "        py=plants[i][1]-dy\n",
    "        if 1<=px<=Range[0] and 1<=py<=Range[1]:#在稻田范围之内，说明间距过小，第二个点不是这个\n",
    "            continue\n",
    "        temp_x=plants[i][0]+(max_steps-1)*dx\n",
    "        temp_y=plants[i][1]+(max_steps-1)*dy\n",
    "        if temp_x>Range[0] or temp_x<1:\n",
    "            break\n",
    "        if temp_y>Range[1] or temp_y<1:\n",
    "            break\n",
    "        steps=search_steps(plants[j],dx,dy)\n",
    "        if steps>max_steps:\n",
    "            max_steps=steps\n",
    "    if max_steps==2:\n",
    "        max_steps=0\n",
    "print(max_steps)\n",
    "\n",
    "\n",
    "\n",
    "\n"
   ]
  }
 ],
 "metadata": {
  "interpreter": {
   "hash": "e0e9a94581e466a13e74865b6280c1dd82d732370a31d5246a4f69572248c913"
  },
  "kernelspec": {
   "display_name": "Python 3.9.11 ('data')",
   "language": "python",
   "name": "python3"
  },
  "language_info": {
   "codemirror_mode": {
    "name": "ipython",
    "version": 3
   },
   "file_extension": ".py",
   "mimetype": "text/x-python",
   "name": "python",
   "nbconvert_exporter": "python",
   "pygments_lexer": "ipython3",
   "version": "3.9.11"
  },
  "orig_nbformat": 4
 },
 "nbformat": 4,
 "nbformat_minor": 2
}
