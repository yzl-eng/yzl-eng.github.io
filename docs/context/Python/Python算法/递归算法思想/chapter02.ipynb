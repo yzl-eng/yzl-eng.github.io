{
 "cells": [
  {
   "cell_type": "markdown",
   "metadata": {},
   "source": [
    "## 递归思想的应用\n",
    "### 举例：二叉树的遍历问题\n"
   ]
  },
  {
   "cell_type": "code",
   "execution_count": 42,
   "metadata": {},
   "outputs": [
    {
     "name": "stdout",
     "output_type": "stream",
     "text": [
      "A B D E C F G \n",
      "D B E A F C G \n",
      "D E B F G C A \n",
      "A B C D E F G "
     ]
    }
   ],
   "source": [
    "class Node:\n",
    "    def __init__(self,data=None,left=None,right=None):\n",
    "        self.data=data\n",
    "        self.right=right\n",
    "        self.left=left\n",
    "\n",
    "#先序遍历\n",
    "def pro_order(tree):\n",
    "    if tree == None:\n",
    "        return False\n",
    "    print(tree.data,end=\" \")\n",
    "    pro_order(tree.left)\n",
    "    pro_order(tree.right)\n",
    "\n",
    "#中序遍历\n",
    "def mid_order(tree):\n",
    "    if tree == None:\n",
    "        return False\n",
    "    mid_order(tree.left)\n",
    "    print(tree.data,end=\" \")\n",
    "    mid_order(tree.right)\n",
    "\n",
    "#后序遍历\n",
    "def post_order(tree):\n",
    "    if tree == None:\n",
    "        return False\n",
    "    post_order(tree.left)\n",
    "    post_order(tree.right)\n",
    "    print(tree.data,end=\" \")\n",
    "\n",
    "#层次遍历\n",
    "def level_order(tree):\n",
    "    if tree==None:\n",
    "       return False\n",
    "    queue=[]\n",
    "    queue.append(tree)\n",
    "    while queue:\n",
    "        node=queue.pop(0)\n",
    "        print(node.data,end=\" \")\n",
    "        if node.left:\n",
    "            queue.append(node.left)\n",
    "        if node.right:\n",
    "            queue.append(node.right)\n",
    "\n",
    "#深度优先搜索\n",
    "#二叉树特化版，要想在图中使用需要加入对重复结点的判断（大概）\n",
    "def DFS(tree):\n",
    "    if tree==None:\n",
    "       return False\n",
    "    stack=[]\n",
    "    stack.append(tree)\n",
    "    while stack:\n",
    "        node=stack.pop(-1)\n",
    "        print(node.data,end=\" \")\n",
    "        if node.left:\n",
    "            stack.append(node.right)\n",
    "        if node.right:\n",
    "            stack.append(node.left)         \n",
    "\n",
    "if __name__ == '__main__':\n",
    "    #A(B(D,E),C(F,G))\n",
    "    tree=Node('A',Node('B',Node('D'),Node('E')),Node('C',Node('F'),Node('G')))\n",
    "    pro_order(tree)\n",
    "    print()\n",
    "    mid_order(tree)\n",
    "    print()\n",
    "    post_order(tree)\n",
    "    print()\n",
    "    level_order(tree)\n",
    "    print()\n",
    "    DFS(tree)"
   ]
  },
  {
   "cell_type": "markdown",
   "metadata": {},
   "source": [
    "### 举例：求解最大公约数和最小公倍数\n",
    "\n",
    "#### 算法分析\n",
    "\n",
    "1. 求最大公约数\n",
    "   \n",
    "   用递归求解最大公约数可使用**辗转相除法**（又名欧几里得法）\n",
    "   \n",
    "   首先通过比较大小将较大和较小的数对号入座，然后使用递归用大数除以小数取余，最后判断取余结果是否为0，<br>\n",
    "   若是则被除数就是最大公约数，若不为0，则调用此函数继续递归。\n",
    "\n",
    "   计算流程如下：\n",
    "\n",
    "   \n",
    "   \n",
    "2. 求最小公倍数\n",
    "   \n",
    "   **最小公倍数=两整数的乘积$\\div$最大公约数**\n",
    "   \n",
    "   "
   ]
  },
  {
   "cell_type": "code",
   "execution_count": 2,
   "metadata": {},
   "outputs": [
    {
     "name": "stdout",
     "output_type": "stream",
     "text": [
      "3\n",
      "8\n"
     ]
    }
   ],
   "source": [
    "def gcd(a,b):\n",
    "    if a==b:\n",
    "        return a\n",
    "    c=a%b\n",
    "    # print(a,b)\n",
    "    if c!=0:\n",
    "        return gcd(b,c)\n",
    "    else:\n",
    "        return b\n",
    "\n",
    "def lcm(a,b):\n",
    "    num=(a*b)//gcd(a,b)\n",
    "    return num   \n",
    "\n",
    "print(gcd(27,15))\n",
    "# print(11112558%1568)\n",
    "print(lcm(4,8))"
   ]
  },
  {
   "cell_type": "code",
   "execution_count": null,
   "metadata": {},
   "outputs": [],
   "source": []
  }
 ],
 "metadata": {
  "interpreter": {
   "hash": "e0e9a94581e466a13e74865b6280c1dd82d732370a31d5246a4f69572248c913"
  },
  "kernelspec": {
   "display_name": "Python 3.9.11 ('data')",
   "language": "python",
   "name": "python3"
  },
  "language_info": {
   "codemirror_mode": {
    "name": "ipython",
    "version": 3
   },
   "file_extension": ".py",
   "mimetype": "text/x-python",
   "name": "python",
   "nbconvert_exporter": "python",
   "pygments_lexer": "ipython3",
   "version": "3.9.11"
  },
  "orig_nbformat": 4
 },
 "nbformat": 4,
 "nbformat_minor": 2
}
