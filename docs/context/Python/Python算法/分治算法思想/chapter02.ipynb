{
 "cells": [
  {
   "cell_type": "markdown",
   "metadata": {},
   "source": [
    "## 快速排序\n",
    "### 算法分析\n",
    "基于分治策略，设定一个基准线（pivot），将数据与基准线对比，分成大于和小于两部分，通过递归，不断通过分治算法实现数据的排序"
   ]
  },
  {
   "cell_type": "code",
   "execution_count": 13,
   "metadata": {},
   "outputs": [
    {
     "name": "stdout",
     "output_type": "stream",
     "text": [
      "[0, 1, 3, 5, 5, 6, 8]\n"
     ]
    }
   ],
   "source": [
    "def quick_sort(arr):\n",
    "    if len(arr)<2:\n",
    "        return arr\n",
    "    pivot=arr[0]    \n",
    "    left_list=[x for x in arr[1:] if x < pivot]\n",
    "    right_list=[x for x in arr[1:] if x > pivot]\n",
    "    return quick_sort(left_list) + [x for x in arr if x == pivot] + quick_sort(right_list)\n",
    "\n",
    "list=[3,5,1,0,8,5,6]\n",
    "print(quick_sort(list))"
   ]
  },
  {
   "cell_type": "markdown",
   "metadata": {},
   "source": [
    "## 归并排序\n",
    "归并排序（merge sort）与快速排序思想类似：将待排序数据分成两部分，继续将两个子部分进行递归的归并排序；然后将已经有序的两个子部分进行合并，最终完成排序。\n",
    "### 算法分析\n",
    "归并排序的基本思路：\n",
    "1. 利用分治思想见过待排序列递归分成细度为1的子序列\n",
    "2. 此事，每个子序列直邮一个元素，无须排序，两两进行简单的归并\n",
    "3. 归并到上一个层级后继续归并，归并到更高的层级\n",
    "4. 直至归并完成，完成排序工作"
   ]
  },
  {
   "cell_type": "code",
   "execution_count": 1,
   "metadata": {},
   "outputs": [
    {
     "name": "stdout",
     "output_type": "stream",
     "text": [
      "[5][1][][5, 1]--->[][1][5][5, 1]\n",
      "[3][1, 5][][3, 5, 1]--->[][1][3, 5][3, 5, 1]\n",
      "[0][8][][0, 8]--->[0][][8][0, 8]\n",
      "[5][6][][5, 6]--->[5][][6][5, 6]\n",
      "[0, 8][5, 6][][0, 8, 5, 6]--->[0][][5, 6, 8][0, 8, 5, 6]\n",
      "[1, 3, 5][0, 5, 6, 8][][3, 5, 1, 0, 8, 5, 6]--->[][0][1, 3, 5, 5, 6, 8][3, 5, 1, 0, 8, 5, 6]\n",
      "[0, 1, 3, 5, 5, 6, 8]\n"
     ]
    }
   ],
   "source": [
    "def merge_sort(arr):\n",
    "    if len(arr)<=1:\n",
    "        return arr\n",
    "    mid=len(arr)//2\n",
    "    left=merge_sort(arr[:mid])\n",
    "    right=merge_sort(arr[mid:])\n",
    "    res=[]\n",
    "    print(f'{left}{right}{res}{arr}--->',end=\"\")\n",
    "    while right and left:\n",
    "        if left[-1] >= right[-1]:\n",
    "            res.append(left.pop())\n",
    "        else:\n",
    "            res.append(right.pop())\n",
    "    res.reverse()\n",
    "    print(f'{left}{right}{res}{arr}')\n",
    "    return left+right+res\n",
    "\n",
    "\n",
    "list=[3,5,1,0,8,5,6]\n",
    "print(merge_sort(list))"
   ]
  },
  {
   "cell_type": "markdown",
   "metadata": {},
   "source": [
    "### 归并排序过程图\n",
    "\n",
    "<img src=\"img/归并排序递归过程.drawio.svg\" alt=\"归并排序过程\" style=\"zoom:80%;\"/>\n"
   ]
  }
 ],
 "metadata": {
  "interpreter": {
   "hash": "e0e9a94581e466a13e74865b6280c1dd82d732370a31d5246a4f69572248c913"
  },
  "kernelspec": {
   "display_name": "Python 3.9.11 ('data')",
   "language": "python",
   "name": "python3"
  },
  "language_info": {
   "codemirror_mode": {
    "name": "ipython",
    "version": 3
   },
   "file_extension": ".py",
   "mimetype": "text/x-python",
   "name": "python",
   "nbconvert_exporter": "python",
   "pygments_lexer": "ipython3",
   "version": "3.9.11"
  },
  "orig_nbformat": 4
 },
 "nbformat": 4,
 "nbformat_minor": 2
}
