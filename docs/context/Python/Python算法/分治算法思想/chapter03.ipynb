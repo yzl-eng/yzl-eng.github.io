{
 "cells": [
  {
   "cell_type": "markdown",
   "metadata": {},
   "source": [
    "# 应用举例：\n",
    "## 例题：整数划分\n",
    "### 问题描述\n",
    "将正整数$n$表示成一系列正整数之和：$n=n_1+n_2+...+n_k$, 其中 $n_1{\\geq}n_2{\\geq}...{\\geq}n_k{\\geq}1$.正整数$n$的这种表示称为正整数$n$的划分\n",
    "\n",
    "例如正整数6有如下11种划分\n",
    "> 6:<br>\n",
    "> 5+1 <br>\n",
    "> 4+2__4+1+1<br>\n",
    "> 3+3__3+2+1__3+1+1+1<br>\n",
    "> 2+2+2__2+2+1+1__2+1+1+1<br>\n",
    "> 1+1+1+1+1+1<br>\n",
    "\n",
    "### 算法分析\n",
    "在正整数$n$所有的划分中，将最大加数$N_1$不大于$m$划分的个数记作`divide(n,m)`，建立如下所示的递归关系式：\n",
    "\n",
    "1. 当最大加数不大于1的时候，只有一种划分形式，也就是$1+1+1+1+\\cdots$\n",
    "   \n",
    "2. 最大加数实际上不可能大于$n$，所以当$m>n$的时候，划分的个数也是1\n",
    "\n",
    "3. 当$n=m$的时候，正整数的划分是由$N_1=m和N_1{\\leq}n-1$的划分组成\n",
    "\n",
    "4. 当$n>m>1$的时候，正整数的最大加数$N_1$不大于$m$的划分由$N_1=m$的划分和$N_1{\\leq}m-1$的划分组成"
   ]
  },
  {
   "cell_type": "code",
   "execution_count": 14,
   "metadata": {},
   "outputs": [
    {
     "name": "stdout",
     "output_type": "stream",
     "text": [
      "9\n"
     ]
    }
   ],
   "source": [
    "# import functools\n",
    "# @functools.lru_cache(maxsize=128,typed=False)\n",
    "# 可使用缓存算法加速\n",
    "\n",
    "def intDivide(n,m):\n",
    "    if n==1 or m==1:\n",
    "        return 1\n",
    "    if n<m:\n",
    "        return intDivide(n,n)\n",
    "    if n==m:\n",
    "        return intDivide(n,m-1)+1\n",
    "    if n>m and m>1:\n",
    "        return intDivide(n-m,m)+intDivide(n,m-1)\n",
    "    return 0\n",
    "\n",
    "if __name__==\"__main__\":\n",
    "    print(intDivide(6,4))"
   ]
  },
  {
   "cell_type": "markdown",
   "metadata": {},
   "source": [
    "## 例题：棋盘覆盖\n",
    "### 问题描述\n",
    "在一个$2^k{\\times}2^k$个方格组成的棋盘上，有意个方格与其他方格不同，称为特殊方格，称这样的棋盘为特殊棋盘。<br>\n",
    "要求对棋盘上除特殊方格外的所有部分用4种不同方向的 $L$ 形方块填满。\n",
    "\n",
    "如图所示：\n",
    "\n",
    "<img src=\"img/L形方块.drawio.svg\" style=\"zoom:100%;\">\n",
    "\n",
    "### 算法分析\n",
    "使用$n$表示棋盘的宽度，$n$必须满足$2^k$，如果$n=8$，特殊方格位于$(2,2)$位置\n",
    "\n",
    "如图所示：\n",
    "\n",
    "\n",
    "<img src=\"img/棋盘.drawio.svg\" style=\"zoom:100%;\">\n",
    "\n",
    "我们使用分治法每次把整个棋盘分成4份，如果特殊方块在这个小棋盘中则继续分成4份，如果不在这个小棋盘中就把该小棋盘中靠近中央的那个方格位，表示$L$的$1/3$占据此处，每次递归都会遍历查询4个小棋盘，3个不含有特殊方格的棋盘置位的3个方格正好在大棋盘中央构成一个完整的$L$形方块，以此类推，找到全部覆盖方法\n",
    "\n",
    "### 具体实现"
   ]
  },
  {
   "cell_type": "code",
   "execution_count": 22,
   "metadata": {},
   "outputs": [
    {
     "data": {
      "image/png": "[encoded data removed]",
      "text/plain": [
       "<Figure size 432x288 with 2 Axes>"
      ]
     },
     "metadata": {
      "needs_background": "light"
     },
     "output_type": "display_data"
    },
    {
     "name": "stdout",
     "output_type": "stream",
     "text": [
      "[[ 4  4  5  5  9  9 10 10 25 25 26 26 30 30 31 31]\n",
      " [ 4  3  3  5  9  8  8 10 25 24 24 26 30 29 29 31]\n",
      " [ 6  3 86  7 11 11  8 12 27 24 28 28 32 32 29 33]\n",
      " [ 6  6  7  7  2 11 12 12 27 27 28 23 23 32 33 33]\n",
      " [14 14 15  2  2 19 20 20 35 35 36 36 23 40 41 41]\n",
      " [14 13 15 15 19 19 18 20 35 34 34 36 40 40 39 41]\n",
      " [16 13 13 17 21 18 18 22 37 37 34 38 42 39 39 43]\n",
      " [16 16 17 17 21 21 22 22  1 37 38 38 42 42 43 43]\n",
      " [46 46 47 47 51 51 52  1  1 67 68 68 72 72 73 73]\n",
      " [46 45 45 47 51 50 52 52 67 67 66 68 72 71 71 73]\n",
      " [48 45 49 49 53 50 50 54 69 66 66 70 74 74 71 75]\n",
      " [48 48 49 44 53 53 54 54 69 69 70 70 65 74 75 75]\n",
      " [56 56 57 44 44 61 62 62 77 77 78 65 65 82 83 83]\n",
      " [56 55 57 57 61 61 60 62 77 76 78 78 82 82 81 83]\n",
      " [58 55 55 59 63 60 60 64 79 76 76 80 84 81 81 85]\n",
      " [58 58 59 59 63 63 64 64 79 79 80 80 84 84 85 85]]\n"
     ]
    }
   ],
   "source": [
    "import time\n",
    "\n",
    "import numpy as np\n",
    "import matplotlib.pyplot as plt\n",
    "\n",
    "\n",
    "class Board:\n",
    "    def __init__(self, size, x, y):\n",
    "        '''\n",
    "        初始化棋盘\n",
    "\n",
    "        :param size: 棋盘边长\n",
    "        :param x: 特殊点横坐标\n",
    "        :param y: 特殊点纵坐标\n",
    "        '''\n",
    "        self.special_block = (x, y)\n",
    "        self.board = np.zeros((size, size), dtype=int)\n",
    "        self.board[x][y] = (size * size - 1) / 3 + 1\n",
    "        self.t = 1\n",
    "        self.size = size\n",
    "\n",
    "    def visualize(self):\n",
    "        '''\n",
    "        可视化函数\n",
    "\n",
    "        :return: None\n",
    "        '''\n",
    "        plt.imshow(self.board, cmap=plt.cm.gray)\n",
    "        plt.colorbar()\n",
    "        plt.show()\n",
    "\n",
    "    def fill_block(self, x, y):\n",
    "        '''\n",
    "        填充点(x, y)\n",
    "        :param x: x\n",
    "        :param y: y\n",
    "        :return: None\n",
    "        '''\n",
    "\n",
    "        if self.board[x][y] == 0:\n",
    "            self.board[x][y] = self.t\n",
    "        else:\n",
    "            raise Exception\n",
    "\n",
    "    def fill(self, s_x, s_y, size, c_x, c_y):\n",
    "        '''\n",
    "        递归函数填充棋盘或子棋盘（下文称区块)\n",
    "\n",
    "        :param s_x: 区块左上角x\n",
    "        :param s_y: 区块左上角y\n",
    "        :param size: 区块边长\n",
    "        :param c_x: 区块特殊点坐标x\n",
    "        :param c_y: 区块特殊点坐标x\n",
    "        :return: None\n",
    "        '''\n",
    "        if size == 1:\n",
    "            return\n",
    "        pos = (round((c_x - s_x + 1) / size), round((c_y - s_y + 1) / size))\n",
    "        center = (round(s_x + size / 2 - 1), round(s_y + size / 2 - 1))\n",
    "        ls = [(0, 0), (0, 1), (1, 0), (1, 1)]  # 代表四个子区块\n",
    "        for i in ls:\n",
    "            if i != pos:  # 如果不是原有特殊点所在区块，则构造特殊点并填充\n",
    "                x = center[0] + i[0]\n",
    "                y = center[1] + i[1]\n",
    "                self.fill_block(x, y)\n",
    "        self.t += 1  # 标记号加一，标记下一骨牌\n",
    "        for i in ls:\n",
    "            if i != pos:  # 如果不是原有特殊点所在区块\n",
    "                # 所构造特殊点位置(x, y)\n",
    "                x = center[0] + i[0]\n",
    "                y = center[1] + i[1]\n",
    "                x1 = s_x + i[0] * (size / 2)\n",
    "                y1 = s_y + i[1] * (size / 2)\n",
    "                self.fill(x1, y1, size / 2, x, y)\n",
    "            else:  # 如果是原有特殊点所在区块\n",
    "                x1 = s_x + i[0] * (size / 2)\n",
    "                y1 = s_y + i[1] * (size / 2)\n",
    "                self.fill(x1, y1, size / 2, c_x, c_y)\n",
    "\n",
    "if __name__ == '__main__':\n",
    "    k = eval(input(\"请输入正整数K(棋盘大小2^2k,2^2k):\\n\"))\n",
    "    loc_x = eval(input(\"请输入特殊点横坐标:\\n\"))\n",
    "    loc_y = eval(input(\"请输入特殊点纵坐标:\\n\"))\n",
    "    size = 2 ** (2 * k)\n",
    "    b = Board(size, loc_x, loc_y)\n",
    "    b.fill(0, 0, size, loc_x, loc_y)\n",
    "    b.visualize()\n",
    "    print(b.board)"
   ]
  }
 ],
 "metadata": {
  "interpreter": {
   "hash": "e0e9a94581e466a13e74865b6280c1dd82d732370a31d5246a4f69572248c913"
  },
  "kernelspec": {
   "display_name": "Python 3.9.11 ('data')",
   "language": "python",
   "name": "python3"
  },
  "language_info": {
   "codemirror_mode": {
    "name": "ipython",
    "version": 3
   },
   "file_extension": ".py",
   "mimetype": "text/x-python",
   "name": "python",
   "nbconvert_exporter": "python",
   "pygments_lexer": "ipython3",
   "version": "3.9.11"
  },
  "orig_nbformat": 4
 },
 "nbformat": 4,
 "nbformat_minor": 2
}
