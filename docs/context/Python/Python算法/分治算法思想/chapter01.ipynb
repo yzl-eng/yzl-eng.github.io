{
 "cells": [
  {
   "cell_type": "markdown",
   "metadata": {},
   "source": [
    "## 分治算法思想基础\n",
    "分治算法的字面解释是“**分而治之**”，就是把一个复杂的问题**分成**两个或更多的相同或相似的**子问题**，再把子问题分成更小的子问题...<br>\n",
    "直到最后的子问题可简单的**直接求解**，原问题的解即子问题的解的**合并**\n",
    "\n",
    "这个技巧是很多高效算法的基础，如**排序算法**(快速排序，归并排序)，**傅立叶变换**(快速傅立叶变换)……\n",
    "## 什么是分治算法\n",
    "### 基本思想及策略\n",
    "分治法的设计思想是：将一个难以直接解决的大问题，分割成一些规模较小的相同问题，以便各个击破，分而治之。\n",
    "\n",
    "   分治策略是：对于一个规模为n的问题，若该问题可以容易地解决（比如说规模n较小）则直接解决，否则将其分解为k个规模较小的子问题，这些子问题互相独立且与原问题形式相同，递归地解这些子问题，然后将各子问题的解合并得到原问题的解。这种算法设计策略叫做分治法。\n",
    "\n",
    "   如果原问题可分割成 $k$ 个子问题，$1<k≤n$，且这些子问题**都可解**并**可利用**这些子问题的解求出原问题的解，那么这种分治法就是可行的。<br>\n",
    "   由分治法产生的子问题往往是原问题的较小模式，这就为使用递归技术提供了方便。在这种情况下，反复应用分治手段，可以使子问题与原问题类型一致而其规模却不断缩小，最终使子问题缩小到很容易直接求出其解。这自然导致递归过程的产生。**分治**与**递归**像一对孪生兄弟，经常**同时**应用在算法设计之中，并由此产生许多高效算法。\n",
    "\n",
    "### 分治法的基本步骤\n",
    "1. **分解(Divide)**：将原问题分解为若干个规模较小，**相互独立**，与原问题形式相同的子问题\n",
    "   \n",
    "2. **解决(Conquer)**：若子问题规模较小而容易被解决则直接解，否则递归地解各个子问题\n",
    "   \n",
    "3. **合并(Combine)**：将各个子问题的解合并为原问题的解。\n",
    "\n",
    "### 分治法的解题思路\n",
    "1. 找出基线条件，这种条件必须尽可能简单\n",
    "\n",
    "2. 确定如何缩小问题的规模，然后不断将问题分解为更小的问题（或者说缩小规模），直到符合基线条件\n",
    "\n",
    "\n",
    "#### 举例\n",
    "假设有一个列表[2,4,6,8]，计算列表所有数相加之和并返回"
   ]
  },
  {
   "cell_type": "code",
   "execution_count": 23,
   "metadata": {},
   "outputs": [
    {
     "name": "stdout",
     "output_type": "stream",
     "text": [
      "1617\n"
     ]
    }
   ],
   "source": [
    "list=[i for i in range(1,100,3)]\n",
    "#传统循环方法：\n",
    "def sum(arr):\n",
    "    total = 0\n",
    "    for x in arr:\n",
    "        total +=x\n",
    "    return total\n",
    "\n",
    "print(sum(list))"
   ]
  },
  {
   "cell_type": "code",
   "execution_count": 24,
   "metadata": {},
   "outputs": [
    {
     "name": "stdout",
     "output_type": "stream",
     "text": [
      "1617\n"
     ]
    }
   ],
   "source": [
    "#分治方法\n",
    "def sum_recurve(arr):\n",
    "    if arr==[]:\n",
    "        return 0\n",
    "    return arr[0]+sum_recurve(arr[1:])\n",
    "\n",
    "print(sum_recurve(list))\n",
    "#可实现相同过程"
   ]
  },
  {
   "cell_type": "markdown",
   "metadata": {},
   "source": [
    "## 分治法适用的情况\n",
    "\n",
    "分治法所能解决的问题一般具有以下几个特征：\n",
    "\n",
    "1. 该问题的规模缩**小**到一定的程度就可以容易地**解决**;<br>\n",
    "此特征是绝大多数问题都可以满足的，因为问题的计算复杂性一般是随着问题规模的增加而增加；\n",
    "\n",
    "2. 该问题可以分解为若干个**规模较小**的**相同**问题，即该问题具有最优子结构性质。<br>\n",
    "此特征是应用分治法的前提它也是大多数问题可以满足的，此特征反映了递归思想的应用；\n",
    "\n",
    "3. 利用该问题分解出的子问题的解可以**合并**为该问题的解；<br>\n",
    "此特征是关键，能否利用分治法**完全取决**于问题是否具有**第三条特征**，如果具备了**第一条**和**第二条**特征，而**不具备第三条特征**，则可以考虑用**贪心法**或**动态规划法**。\n",
    "\n",
    "4. 该问题所分解出的各个子问题是**相互独立**的，即子问题之间不包含公共的子问题。<br>\n",
    "此特征涉及到分治法的**效率**，如果各子问题是**不独立**的则分治法要做许多**不必要**的工作，重复地解公共的子问题，此时虽然可用分治法，但一般用**动态规划法**较好\n"
   ]
  },
  {
   "cell_type": "markdown",
   "metadata": {},
   "source": [
    "## 例题：找出有序列表中的值\n",
    "### 使用二分法在有序列表中找到指定的值"
   ]
  },
  {
   "cell_type": "code",
   "execution_count": 147,
   "metadata": {},
   "outputs": [
    {
     "name": "stdout",
     "output_type": "stream",
     "text": [
      "index:2222     key:6666\n"
     ]
    }
   ],
   "source": [
    "def BinarySearch(arr,key):\n",
    "    #记录数组最高位与最低位\n",
    "    min=0\n",
    "    max=len(arr)-1\n",
    "\n",
    "    if key in arr:\n",
    "        while True:\n",
    "            center=(min+max)//2\n",
    "            if arr[center]>key:\n",
    "                max=center-1\n",
    "            elif arr[center]<key:\n",
    "                min=center+1\n",
    "            else:\n",
    "                return 'index:'+str(center)+'     key:'+str(key) \n",
    "                # print(f'index:{center}')\n",
    "                # return\n",
    "    else:\n",
    "        return False    \n",
    "\n",
    "\n",
    "if __name__==\"__main__\":\n",
    "    list=[i for i in range(0,10000,3)]\n",
    "    print(BinarySearch(list,6666))               "
   ]
  },
  {
   "cell_type": "code",
   "execution_count": 97,
   "metadata": {},
   "outputs": [
    {
     "name": "stdout",
     "output_type": "stream",
     "text": [
      "2222\n"
     ]
    }
   ],
   "source": [
    "#使用Python自带方法找下标\n",
    "#查找规模小的时候效率差不多，大的时候自带方法有优势\n",
    "print(list.index(6666))\n"
   ]
  },
  {
   "cell_type": "markdown",
   "metadata": {},
   "source": [
    "### 使用分治算法判断某个元素是否在列表中"
   ]
  },
  {
   "cell_type": "code",
   "execution_count": 1,
   "metadata": {},
   "outputs": [
    {
     "name": "stdout",
     "output_type": "stream",
     "text": [
      "False\n"
     ]
    }
   ],
   "source": [
    "#子问题算法\n",
    "#子问题规模为1\n",
    "def is_in_list(list,e):\n",
    "    if list[0]==e:\n",
    "        return True\n",
    "    else:\n",
    "        return False\n",
    "\n",
    "def solve(list,e):\n",
    "    n=len(list)\n",
    "    if n==1:#当问题规模为1时，可直接解决\n",
    "        return is_in_list(list,e)\n",
    "    left_list,right_list=list[:n//2],list[n//2:]\n",
    "\n",
    "    res=solve(left_list,e) or solve(right_list,e)\n",
    "    return res\n",
    "\n",
    "if __name__==\"__main__\":\n",
    "    list=[i for i in range(0,10000,3)]\n",
    "    print(solve(list,-1))"
   ]
  },
  {
   "cell_type": "code",
   "execution_count": 2,
   "metadata": {},
   "outputs": [
    {
     "name": "stdout",
     "output_type": "stream",
     "text": [
      "False\n"
     ]
    }
   ],
   "source": [
    "num=-1\n",
    "if num in list:\n",
    "    print(\"True\")\n",
    "else:\n",
    "    print(\"False\")"
   ]
  }
 ],
 "metadata": {
  "interpreter": {
   "hash": "e0e9a94581e466a13e74865b6280c1dd82d732370a31d5246a4f69572248c913"
  },
  "kernelspec": {
   "display_name": "Python 3.9.11 ('data')",
   "language": "python",
   "name": "python3"
  },
  "language_info": {
   "codemirror_mode": {
    "name": "ipython",
    "version": 3
   },
   "file_extension": ".py",
   "mimetype": "text/x-python",
   "name": "python",
   "nbconvert_exporter": "python",
   "pygments_lexer": "ipython3",
   "version": "3.9.11"
  },
  "orig_nbformat": 4
 },
 "nbformat": 4,
 "nbformat_minor": 2
}
